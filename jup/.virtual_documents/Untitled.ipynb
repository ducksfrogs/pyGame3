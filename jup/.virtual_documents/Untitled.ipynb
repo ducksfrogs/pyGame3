fruit = 'banana'


if fruit == 'apple':
    print('red')
elif fruit == 'banana':
    print(fruit + " is yellow")
else:
    print("nothing")



